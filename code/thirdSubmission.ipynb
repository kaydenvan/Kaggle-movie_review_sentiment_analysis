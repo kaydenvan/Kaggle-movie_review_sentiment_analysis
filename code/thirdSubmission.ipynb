{
 "cells": [
  {
   "cell_type": "code",
   "execution_count": 1,
   "id": "a4fcfaf7",
   "metadata": {},
   "outputs": [],
   "source": [
    "# import library\n",
    "import pandas as pd\n",
    "import numpy as np\n",
    "import warnings\n",
    "import zipfile\n",
    "import seaborn as sns\n",
    "import matplotlib.pyplot as plt\n",
    "\n",
    "warnings.filterwarnings('ignore')"
   ]
  },
  {
   "cell_type": "markdown",
   "id": "b4b4607b",
   "metadata": {},
   "source": [
    "### Load data"
   ]
  },
  {
   "cell_type": "code",
   "execution_count": 2,
   "id": "be8d316c",
   "metadata": {},
   "outputs": [],
   "source": [
    "_zipfile_train = zipfile.ZipFile('../local/train.tsv.zip')\n",
    "_zipfile_test = zipfile.ZipFile('../local/test.tsv.zip')"
   ]
  },
  {
   "cell_type": "code",
   "execution_count": 3,
   "id": "b92b3a1b",
   "metadata": {},
   "outputs": [],
   "source": [
    "with _zipfile_train.open('train.tsv') as f:\n",
    "    df_train = pd.read_csv(f,delimiter='\\t')\n",
    "with _zipfile_test.open('test.tsv') as f:\n",
    "    df_test = pd.read_csv(f,delimiter='\\t')"
   ]
  },
  {
   "cell_type": "markdown",
   "id": "9d906691",
   "metadata": {},
   "source": [
    "### EDA"
   ]
  },
  {
   "cell_type": "code",
   "execution_count": 4,
   "id": "364db28c",
   "metadata": {},
   "outputs": [
    {
     "data": {
      "text/plain": [
       "(Index(['PhraseId', 'SentenceId', 'Phrase', 'Sentiment'], dtype='object'),\n",
       " Index(['PhraseId', 'SentenceId', 'Phrase'], dtype='object'))"
      ]
     },
     "execution_count": 4,
     "metadata": {},
     "output_type": "execute_result"
    }
   ],
   "source": [
    "df_train.columns, df_test.columns"
   ]
  },
  {
   "cell_type": "code",
   "execution_count": 5,
   "id": "a9a44d72",
   "metadata": {},
   "outputs": [
    {
     "data": {
      "text/plain": [
       "(156060, 2)"
      ]
     },
     "execution_count": 5,
     "metadata": {},
     "output_type": "execute_result"
    }
   ],
   "source": [
    "# drop unnecessary columns\n",
    "df_train.drop(columns=['PhraseId', 'SentenceId'], inplace=True)\n",
    "df_train.shape"
   ]
  },
  {
   "cell_type": "code",
   "execution_count": 6,
   "id": "f6e3d23a",
   "metadata": {},
   "outputs": [
    {
     "data": {
      "text/plain": [
       "<AxesSubplot:xlabel='Sentiment', ylabel='count'>"
      ]
     },
     "execution_count": 6,
     "metadata": {},
     "output_type": "execute_result"
    },
    {
     "data": {
      "image/png": "[encoded data removed]",
      "text/plain": [
       "<Figure size 432x288 with 1 Axes>"
      ]
     },
     "metadata": {
      "needs_background": "light"
     },
     "output_type": "display_data"
    }
   ],
   "source": [
    "sns.countplot(df_train['Sentiment'])"
   ]
  },
  {
   "cell_type": "markdown",
   "id": "803d14f8",
   "metadata": {},
   "source": [
    "### Word preprocessing"
   ]
  },
  {
   "cell_type": "code",
   "execution_count": 7,
   "id": "69459970",
   "metadata": {},
   "outputs": [],
   "source": [
    "import string\n",
    "from nltk.tokenize import word_tokenize\n",
    "from nltk.corpus import stopwords\n",
    "from nltk.stem.porter import PorterStemmer\n",
    "import tensorflow as tf\n",
    "from tensorflow.keras.preprocessing.text import Tokenizer\n",
    "from tensorflow.keras.preprocessing.sequence import pad_sequences"
   ]
  },
  {
   "cell_type": "code",
   "execution_count": 8,
   "id": "8fe30de5",
   "metadata": {},
   "outputs": [],
   "source": [
    "def _word_tokenize(df, original, target):\n",
    "    df[target] = df[original].apply(lambda x: word_tokenize(x))\n",
    "    return df"
   ]
  },
  {
   "cell_type": "code",
   "execution_count": 9,
   "id": "47e03a7e",
   "metadata": {},
   "outputs": [],
   "source": [
    "def _lower_case(df, target):\n",
    "    df[target] = df[target].apply(lambda x: [word.lower() for word in x])\n",
    "    return df"
   ]
  },
  {
   "cell_type": "code",
   "execution_count": 10,
   "id": "c717ad1a",
   "metadata": {},
   "outputs": [],
   "source": [
    "def _remove_punctuation(df, target):\n",
    "    table = str.maketrans('', '', string.punctuation)\n",
    "    df[target] = df[target].apply(lambda x: [word for word in x if word.isalpha()])\n",
    "    return df"
   ]
  },
  {
   "cell_type": "code",
   "execution_count": 11,
   "id": "e682aafc",
   "metadata": {},
   "outputs": [],
   "source": [
    "def _remove_stopword(df, target):\n",
    "    stop_words = set(stopwords.words('english'))\n",
    "    df[target] = df[target].apply(lambda x: [word for word in x if word not in stop_words])\n",
    "    return df"
   ]
  },
  {
   "cell_type": "code",
   "execution_count": 12,
   "id": "27f82cb6",
   "metadata": {},
   "outputs": [],
   "source": [
    "def _stem_word(df, target):\n",
    "    porter = PorterStemmer()\n",
    "    df[target] = df[target].apply(lambda x: [porter.stem(word) for word in x])\n",
    "    return df"
   ]
  },
  {
   "cell_type": "code",
   "execution_count": 13,
   "id": "b7892aef",
   "metadata": {},
   "outputs": [],
   "source": [
    "def clean_word(df, original, target):\n",
    "    df = _word_tokenize(df, original, target)\n",
    "    df = _lower_case(df, target)\n",
    "    # df = _remove_punctuation(df, target)\n",
    "    # df = _remove_stopword(df, target)\n",
    "    return _stem_word(df, target)"
   ]
  },
  {
   "cell_type": "code",
   "execution_count": 14,
   "id": "4927ea6c",
   "metadata": {},
   "outputs": [],
   "source": [
    "df_train = clean_word(df_train, 'Phrase', 'cleaned_text')\n",
    "df_test = clean_word(df_test, 'Phrase', 'cleaned_text')"
   ]
  },
  {
   "cell_type": "code",
   "execution_count": 15,
   "id": "6363ceeb",
   "metadata": {},
   "outputs": [
    {
     "name": "stdout",
     "output_type": "stream",
     "text": [
      "Number of unique word: 12134\n"
     ]
    }
   ],
   "source": [
    "tokenizer = Tokenizer(num_words = 20000, oov_token=\"<OOV>\")\n",
    "tokenizer.fit_on_texts(df_train['cleaned_text'])\n",
    "word_index = tokenizer.word_index\n",
    "word_sequences = tokenizer.texts_to_sequences(df_train['cleaned_text'])\n",
    "x_test = tokenizer.texts_to_sequences(df_test['cleaned_text'])\n",
    "print('Number of unique word: {}'.format(len(word_index)-1))"
   ]
  },
  {
   "cell_type": "code",
   "execution_count": 16,
   "id": "095ae75b",
   "metadata": {},
   "outputs": [],
   "source": [
    "# specify the length of sentence within 50 words\n",
    "# keep zero at the end of sentence if not 50 words\n",
    "# truncate the end of words if longer than 50\n",
    "x_train = pad_sequences(word_sequences, maxlen=50, padding='post', truncating='post')\n",
    "x_test = pad_sequences(x_test, maxlen=50, padding='post', truncating='post')"
   ]
  },
  {
   "cell_type": "code",
   "execution_count": 17,
   "id": "164c6fd4",
   "metadata": {},
   "outputs": [
    {
     "data": {
      "text/plain": [
       "(156060, 50)"
      ]
     },
     "execution_count": 17,
     "metadata": {},
     "output_type": "execute_result"
    }
   ],
   "source": [
    "x_train.shape"
   ]
  },
  {
   "cell_type": "code",
   "execution_count": 18,
   "id": "e312a7e5",
   "metadata": {},
   "outputs": [],
   "source": [
    "y_train = np.array(pd.get_dummies(df_train['Sentiment']))"
   ]
  },
  {
   "cell_type": "markdown",
   "id": "f555e2c7",
   "metadata": {},
   "source": [
    "### Model"
   ]
  },
  {
   "cell_type": "code",
   "execution_count": 21,
   "id": "780a3ff5",
   "metadata": {},
   "outputs": [],
   "source": [
    "from tensorflow.keras.models import Sequential\n",
    "from tensorflow.keras.layers import Dense, Embedding, LSTM, Dropout, Bidirectional, GlobalMaxPool1D"
   ]
  },
  {
   "cell_type": "code",
   "execution_count": 22,
   "id": "c5e75eda",
   "metadata": {},
   "outputs": [],
   "source": [
    "model = Sequential(name='base_model')\n",
    "model.add(Embedding(input_dim = len(word_index) + 1, \n",
    "                    output_dim = 16,\n",
    "                    input_length = 50,\n",
    "                    mask_zero = True))\n",
    "model.add(Dropout(.2))\n",
    "# numpy version has to download to 1.19.5 \n",
    "# this is the dependency package for tensorflow\n",
    "model.add(Bidirectional(LSTM(128, return_sequences=True)))\n",
    "model.add(GlobalMaxPool1D())\n",
    "model.add(Dropout(.2))\n",
    "model.add(Dense(64, activation='relu'))\n",
    "model.add(Dense(16, activation='relu'))\n",
    "model.add(Dense(5, activation = 'softmax'))"
   ]
  },
  {
   "cell_type": "code",
   "execution_count": 23,
   "id": "22c0f823",
   "metadata": {},
   "outputs": [
    {
     "name": "stdout",
     "output_type": "stream",
     "text": [
      "Model: \"base_model\"\n",
      "_________________________________________________________________\n",
      "Layer (type)                 Output Shape              Param #   \n",
      "=================================================================\n",
      "embedding_1 (Embedding)      (None, 50, 16)            194176    \n",
      "_________________________________________________________________\n",
      "dropout_1 (Dropout)          (None, 50, 16)            0         \n",
      "_________________________________________________________________\n",
      "bidirectional (Bidirectional (None, 50, 256)           148480    \n",
      "_________________________________________________________________\n",
      "global_max_pooling1d (Global (None, 256)               0         \n",
      "_________________________________________________________________\n",
      "dropout_2 (Dropout)          (None, 256)               0         \n",
      "_________________________________________________________________\n",
      "dense (Dense)                (None, 64)                16448     \n",
      "_________________________________________________________________\n",
      "dense_1 (Dense)              (None, 16)                1040      \n",
      "_________________________________________________________________\n",
      "dense_2 (Dense)              (None, 5)                 85        \n",
      "=================================================================\n",
      "Total params: 360,229\n",
      "Trainable params: 360,229\n",
      "Non-trainable params: 0\n",
      "_________________________________________________________________\n"
     ]
    }
   ],
   "source": [
    "model.summary()"
   ]
  },
  {
   "cell_type": "code",
   "execution_count": 24,
   "id": "7ad4da10",
   "metadata": {},
   "outputs": [],
   "source": [
    "model.compile(loss = 'categorical_crossentropy', optimizer = 'adam',\n",
    "             metrics = ['acc'])"
   ]
  },
  {
   "cell_type": "code",
   "execution_count": 25,
   "id": "b0f2f5e0",
   "metadata": {},
   "outputs": [],
   "source": [
    "# stop the trainng if validation loss is not improved for 5 rounds\n",
    "callback = tf.keras.callbacks.EarlyStopping(monitor='val_loss', patience=3)"
   ]
  },
  {
   "cell_type": "code",
   "execution_count": 26,
   "id": "a3c76770",
   "metadata": {},
   "outputs": [
    {
     "name": "stdout",
     "output_type": "stream",
     "text": [
      "Epoch 1/15\n",
      "976/976 [==============================] - 95s 98ms/step - loss: 1.0739 - acc: 0.5720 - val_loss: 1.0013 - val_acc: 0.5955\n",
      "Epoch 2/15\n",
      "976/976 [==============================] - 96s 99ms/step - loss: 0.8389 - acc: 0.6556 - val_loss: 0.9727 - val_acc: 0.6050\n",
      "Epoch 3/15\n",
      "976/976 [==============================] - 94s 97ms/step - loss: 0.7818 - acc: 0.6753 - val_loss: 0.9887 - val_acc: 0.5981\n",
      "Epoch 4/15\n",
      "976/976 [==============================] - 94s 96ms/step - loss: 0.7456 - acc: 0.6867 - val_loss: 0.9768 - val_acc: 0.6095\n",
      "Epoch 5/15\n",
      "976/976 [==============================] - 94s 96ms/step - loss: 0.7194 - acc: 0.6946 - val_loss: 0.9840 - val_acc: 0.6086\n",
      "Wall time: 8min\n"
     ]
    }
   ],
   "source": [
    "%%time\n",
    "history = model.fit(x = x_train, y = y_train,\n",
    "                   batch_size = 128,\n",
    "                   epochs = 15, \n",
    "                   validation_split=.2,\n",
    "                   callbacks=[callback],\n",
    "                   verbose=1)"
   ]
  },
  {
   "cell_type": "code",
   "execution_count": 27,
   "id": "3df7585b",
   "metadata": {},
   "outputs": [
    {
     "data": {
      "image/png": "[encoded data removed]",
      "text/plain": [
       "<Figure size 432x288 with 1 Axes>"
      ]
     },
     "metadata": {
      "needs_background": "light"
     },
     "output_type": "display_data"
    }
   ],
   "source": [
    "hist = pd.DataFrame(history.history)\n",
    "hist['epochs'] = history.epoch\n",
    "\n",
    "plt.figure()\n",
    "plt.plot(hist['epochs'], hist['acc'], label='Training Acc')\n",
    "plt.plot(hist['epochs'], hist['val_acc'], label='Validation Acc')\n",
    "plt.xlabel('Epochs')\n",
    "plt.ylabel('Accuracy')\n",
    "plt.title('Model Performance')\n",
    "plt.legend()\n",
    "plt.show()"
   ]
  },
  {
   "cell_type": "code",
   "execution_count": 28,
   "id": "a3fc8a48",
   "metadata": {},
   "outputs": [
    {
     "data": {
      "image/png": "[encoded data removed]",
      "text/plain": [
       "<Figure size 432x288 with 1 Axes>"
      ]
     },
     "metadata": {
      "needs_background": "light"
     },
     "output_type": "display_data"
    }
   ],
   "source": [
    "plt.figure()\n",
    "plt.plot(hist['epochs'], hist['loss'], label='Training loss')\n",
    "plt.plot(hist['epochs'], hist['val_loss'], label='Validation loss')\n",
    "plt.xlabel('Epochs')\n",
    "plt.ylabel('Accuracy')\n",
    "plt.title('Model Loss')\n",
    "plt.legend()\n",
    "plt.show()"
   ]
  },
  {
   "cell_type": "code",
   "execution_count": 29,
   "id": "521d31ed",
   "metadata": {},
   "outputs": [],
   "source": [
    "# store trained model\n",
    "filename = 'thirdSubmission.h5'\n",
    "model.save(filename)"
   ]
  },
  {
   "cell_type": "code",
   "execution_count": 30,
   "id": "95782a2e",
   "metadata": {},
   "outputs": [
    {
     "name": "stdout",
     "output_type": "stream",
     "text": [
      "Wall time: 25.4 s\n"
     ]
    }
   ],
   "source": [
    "%%time\n",
    "# create submission\n",
    "df_test['y_pred'] = np.argmax(model.predict(x_test), axis=1)\n",
    "submission = df_test[['PhraseId', 'y_pred']].rename(columns={'y_pred': 'Sentiment'})\n",
    "submission.to_csv('thirdSubmission.csv', index=False, header=True)"
   ]
  },
  {
   "cell_type": "code",
   "execution_count": null,
   "id": "ceac80c9",
   "metadata": {},
   "outputs": [],
   "source": []
  }
 ],
 "metadata": {
  "kernelspec": {
   "display_name": "Python 3",
   "language": "python",
   "name": "python3"
  },
  "language_info": {
   "codemirror_mode": {
    "name": "ipython",
    "version": 3
   },
   "file_extension": ".py",
   "mimetype": "text/x-python",
   "name": "python",
   "nbconvert_exporter": "python",
   "pygments_lexer": "ipython3",
   "version": "3.8.8"
  }
 },
 "nbformat": 4,
 "nbformat_minor": 5
}
