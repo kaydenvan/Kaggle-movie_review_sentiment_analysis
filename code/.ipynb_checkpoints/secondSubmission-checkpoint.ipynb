{
 "cells": [
  {
   "cell_type": "code",
   "execution_count": 1,
   "id": "a4fcfaf7",
   "metadata": {},
   "outputs": [],
   "source": [
    "# import library\n",
    "import pandas as pd\n",
    "import numpy as np\n",
    "import warnings\n",
    "import zipfile\n",
    "import seaborn as sns\n",
    "import matplotlib.pyplot as plt\n",
    "\n",
    "warnings.filterwarnings('ignore')"
   ]
  },
  {
   "cell_type": "markdown",
   "id": "b4b4607b",
   "metadata": {},
   "source": [
    "### Load data"
   ]
  },
  {
   "cell_type": "code",
   "execution_count": 2,
   "id": "be8d316c",
   "metadata": {},
   "outputs": [],
   "source": [
    "_zipfile_train = zipfile.ZipFile('../local/train.tsv.zip')\n",
    "_zipfile_test = zipfile.ZipFile('../local/test.tsv.zip')"
   ]
  },
  {
   "cell_type": "code",
   "execution_count": 3,
   "id": "b92b3a1b",
   "metadata": {},
   "outputs": [],
   "source": [
    "with _zipfile_train.open('train.tsv') as f:\n",
    "    df_train = pd.read_csv(f,delimiter='\\t')\n",
    "with _zipfile_test.open('test.tsv') as f:\n",
    "    df_test = pd.read_csv(f,delimiter='\\t')"
   ]
  },
  {
   "cell_type": "markdown",
   "id": "9d906691",
   "metadata": {},
   "source": [
    "### EDA"
   ]
  },
  {
   "cell_type": "code",
   "execution_count": 4,
   "id": "364db28c",
   "metadata": {},
   "outputs": [
    {
     "data": {
      "text/plain": [
       "(Index(['PhraseId', 'SentenceId', 'Phrase', 'Sentiment'], dtype='object'),\n",
       " Index(['PhraseId', 'SentenceId', 'Phrase'], dtype='object'))"
      ]
     },
     "execution_count": 4,
     "metadata": {},
     "output_type": "execute_result"
    }
   ],
   "source": [
    "df_train.columns, df_test.columns"
   ]
  },
  {
   "cell_type": "code",
   "execution_count": 5,
   "id": "a9a44d72",
   "metadata": {},
   "outputs": [
    {
     "data": {
      "text/plain": [
       "(156060, 2)"
      ]
     },
     "execution_count": 5,
     "metadata": {},
     "output_type": "execute_result"
    }
   ],
   "source": [
    "# drop unnecessary columns\n",
    "df_train.drop(columns=['PhraseId', 'SentenceId'], inplace=True)\n",
    "df_train.shape"
   ]
  },
  {
   "cell_type": "code",
   "execution_count": 6,
   "id": "f6e3d23a",
   "metadata": {},
   "outputs": [
    {
     "data": {
      "text/plain": [
       "<AxesSubplot:xlabel='Sentiment', ylabel='count'>"
      ]
     },
     "execution_count": 6,
     "metadata": {},
     "output_type": "execute_result"
    },
    {
     "data": {
      "image/png": "[encoded data removed]",
      "text/plain": [
       "<Figure size 432x288 with 1 Axes>"
      ]
     },
     "metadata": {
      "needs_background": "light"
     },
     "output_type": "display_data"
    }
   ],
   "source": [
    "sns.countplot(df_train['Sentiment'])"
   ]
  },
  {
   "cell_type": "markdown",
   "id": "803d14f8",
   "metadata": {},
   "source": [
    "### Word preprocessing"
   ]
  },
  {
   "cell_type": "code",
   "execution_count": 7,
   "id": "69459970",
   "metadata": {},
   "outputs": [],
   "source": [
    "import tensorflow as tf\n",
    "from tensorflow.keras.preprocessing.text import Tokenizer\n",
    "from tensorflow.keras.preprocessing.sequence import pad_sequences"
   ]
  },
  {
   "cell_type": "code",
   "execution_count": 8,
   "id": "6363ceeb",
   "metadata": {},
   "outputs": [
    {
     "name": "stdout",
     "output_type": "stream",
     "text": [
      "Number of unique word: 15288\n"
     ]
    }
   ],
   "source": [
    "tokenizer = Tokenizer(num_words = 20000, oov_token=\"<OOV>\")\n",
    "tokenizer.fit_on_texts(df_train['Phrase'])\n",
    "word_index = tokenizer.word_index\n",
    "word_sequences = tokenizer.texts_to_sequences(df_train['Phrase'])\n",
    "x_test = tokenizer.texts_to_sequences(df_test['Phrase'])\n",
    "print('Number of unique word: {}'.format(len(word_index)-1))"
   ]
  },
  {
   "cell_type": "code",
   "execution_count": 9,
   "id": "095ae75b",
   "metadata": {},
   "outputs": [],
   "source": [
    "# specify the length of sentence within 50 words\n",
    "# keep zero at the end of sentence if not 50 words\n",
    "# truncate the end of words if longer than 50\n",
    "x_train = pad_sequences(word_sequences, maxlen=50, padding='post', truncating='post')\n",
    "x_test = pad_sequences(x_test, maxlen=50, padding='post', truncating='post')"
   ]
  },
  {
   "cell_type": "code",
   "execution_count": 10,
   "id": "e312a7e5",
   "metadata": {},
   "outputs": [],
   "source": [
    "y = np.array(pd.get_dummies(df_train['Sentiment']))"
   ]
  },
  {
   "cell_type": "markdown",
   "id": "f555e2c7",
   "metadata": {},
   "source": [
    "### Model"
   ]
  },
  {
   "cell_type": "code",
   "execution_count": 11,
   "id": "780a3ff5",
   "metadata": {},
   "outputs": [],
   "source": [
    "from tensorflow.keras.models import Sequential\n",
    "from tensorflow.keras.layers import Dense, Embedding, GRU, Dropout, Bidirectional, GlobalMaxPool1D"
   ]
  },
  {
   "cell_type": "code",
   "execution_count": 12,
   "id": "c5e75eda",
   "metadata": {},
   "outputs": [],
   "source": [
    "model = Sequential(name='base_model')\n",
    "model.add(Embedding(input_dim = len(word_index) + 1, \n",
    "                    output_dim = 16,\n",
    "                    input_length = 50,\n",
    "                    mask_zero = True))\n",
    "model.add(Dropout(.2))\n",
    "# numpy version has to download to 1.19.5 \n",
    "# this is the dependency package for tensorflow\n",
    "model.add(Bidirectional(GRU(128, return_sequences=True)))\n",
    "model.add(GlobalMaxPool1D())\n",
    "model.add(Dropout(.2))\n",
    "model.add(Dense(64, activation='relu'))\n",
    "model.add(Dense(16, activation='relu'))\n",
    "model.add(Dense(5, activation = 'softmax'))"
   ]
  },
  {
   "cell_type": "code",
   "execution_count": 13,
   "id": "248c23b7",
   "metadata": {},
   "outputs": [],
   "source": [
    "word_dict = {k:i for i,k in word_index.items()}\n",
    "word_dict.get(15290)"
   ]
  },
  {
   "cell_type": "code",
   "execution_count": 14,
   "id": "22c0f823",
   "metadata": {},
   "outputs": [
    {
     "name": "stdout",
     "output_type": "stream",
     "text": [
      "Model: \"base_model\"\n",
      "_________________________________________________________________\n",
      "Layer (type)                 Output Shape              Param #   \n",
      "=================================================================\n",
      "embedding (Embedding)        (None, 50, 16)            244640    \n",
      "_________________________________________________________________\n",
      "dropout (Dropout)            (None, 50, 16)            0         \n",
      "_________________________________________________________________\n",
      "bidirectional (Bidirectional (None, 50, 256)           112128    \n",
      "_________________________________________________________________\n",
      "global_max_pooling1d (Global (None, 256)               0         \n",
      "_________________________________________________________________\n",
      "dropout_1 (Dropout)          (None, 256)               0         \n",
      "_________________________________________________________________\n",
      "dense (Dense)                (None, 64)                16448     \n",
      "_________________________________________________________________\n",
      "dense_1 (Dense)              (None, 16)                1040      \n",
      "_________________________________________________________________\n",
      "dense_2 (Dense)              (None, 5)                 85        \n",
      "=================================================================\n",
      "Total params: 374,341\n",
      "Trainable params: 374,341\n",
      "Non-trainable params: 0\n",
      "_________________________________________________________________\n"
     ]
    }
   ],
   "source": [
    "model.summary()"
   ]
  },
  {
   "cell_type": "code",
   "execution_count": 15,
   "id": "7ad4da10",
   "metadata": {},
   "outputs": [],
   "source": [
    "model.compile(loss = 'categorical_crossentropy', optimizer = 'adam',\n",
    "             metrics = ['acc'])"
   ]
  },
  {
   "cell_type": "code",
   "execution_count": 16,
   "id": "b0f2f5e0",
   "metadata": {},
   "outputs": [],
   "source": [
    "# stop the trainng if validation loss is not improved for 5 rounds\n",
    "callback = tf.keras.callbacks.EarlyStopping(monitor='val_loss', patience=5)"
   ]
  },
  {
   "cell_type": "code",
   "execution_count": 17,
   "id": "a3c76770",
   "metadata": {},
   "outputs": [
    {
     "name": "stdout",
     "output_type": "stream",
     "text": [
      "Epoch 1/15\n",
      "244/244 [==============================] - 82s 336ms/step - loss: 1.1756 - acc: 0.5419 - val_loss: 1.1205 - val_acc: 0.5443\n",
      "Epoch 2/15\n",
      "244/244 [==============================] - 78s 320ms/step - loss: 0.9513 - acc: 0.6170 - val_loss: 1.0214 - val_acc: 0.5874\n",
      "Epoch 3/15\n",
      "244/244 [==============================] - 91s 374ms/step - loss: 0.8038 - acc: 0.6735 - val_loss: 0.9797 - val_acc: 0.6042\n",
      "Epoch 4/15\n",
      "244/244 [==============================] - 91s 375ms/step - loss: 0.7479 - acc: 0.6906 - val_loss: 0.9886 - val_acc: 0.5990\n",
      "Epoch 5/15\n",
      "244/244 [==============================] - 92s 378ms/step - loss: 0.7140 - acc: 0.7022 - val_loss: 1.0221 - val_acc: 0.6024\n",
      "Epoch 6/15\n",
      "244/244 [==============================] - 92s 378ms/step - loss: 0.6885 - acc: 0.7104 - val_loss: 1.0315 - val_acc: 0.6013\n",
      "Epoch 7/15\n",
      "244/244 [==============================] - 95s 388ms/step - loss: 0.6669 - acc: 0.7175 - val_loss: 1.0450 - val_acc: 0.6001\n",
      "Epoch 8/15\n",
      "244/244 [==============================] - 95s 388ms/step - loss: 0.6514 - acc: 0.7235 - val_loss: 1.0560 - val_acc: 0.5992\n",
      "Wall time: 12min 6s\n"
     ]
    }
   ],
   "source": [
    "%%time\n",
    "history = model.fit(x = x_train, y = y,\n",
    "                   batch_size = 512,\n",
    "                   epochs = 15, \n",
    "                   validation_split=.2,\n",
    "                   callbacks=[callback],\n",
    "                   verbose=1)"
   ]
  },
  {
   "cell_type": "code",
   "execution_count": 18,
   "id": "3df7585b",
   "metadata": {},
   "outputs": [
    {
     "data": {
      "image/png": "[encoded data removed]",
      "text/plain": [
       "<Figure size 432x288 with 1 Axes>"
      ]
     },
     "metadata": {
      "needs_background": "light"
     },
     "output_type": "display_data"
    }
   ],
   "source": [
    "hist = pd.DataFrame(history.history)\n",
    "hist['epochs'] = history.epoch\n",
    "\n",
    "plt.figure()\n",
    "plt.plot(hist['epochs'], hist['acc'], label='Training Acc')\n",
    "plt.plot(hist['epochs'], hist['val_acc'], label='Validation Acc')\n",
    "plt.xlabel('Epochs')\n",
    "plt.ylabel('Accuracy')\n",
    "plt.title('Model Performance')\n",
    "plt.legend()\n",
    "plt.show()"
   ]
  },
  {
   "cell_type": "code",
   "execution_count": 19,
   "id": "a3fc8a48",
   "metadata": {},
   "outputs": [
    {
     "data": {
      "image/png": "[encoded data removed]",
      "text/plain": [
       "<Figure size 432x288 with 1 Axes>"
      ]
     },
     "metadata": {
      "needs_background": "light"
     },
     "output_type": "display_data"
    }
   ],
   "source": [
    "plt.figure()\n",
    "plt.plot(hist['epochs'], hist['loss'], label='Training loss')\n",
    "plt.plot(hist['epochs'], hist['val_loss'], label='Validation loss')\n",
    "plt.xlabel('Epochs')\n",
    "plt.ylabel('Accuracy')\n",
    "plt.title('Model Loss')\n",
    "plt.legend()\n",
    "plt.show()"
   ]
  },
  {
   "cell_type": "code",
   "execution_count": 20,
   "id": "521d31ed",
   "metadata": {},
   "outputs": [],
   "source": [
    "# store trained model\n",
    "filename = 'secondSubmission.h5'\n",
    "model.save(filename)"
   ]
  },
  {
   "cell_type": "code",
   "execution_count": 21,
   "id": "95782a2e",
   "metadata": {},
   "outputs": [
    {
     "name": "stdout",
     "output_type": "stream",
     "text": [
      "Wall time: 23.6 s\n"
     ]
    }
   ],
   "source": [
    "%%time\n",
    "# create submission\n",
    "df_test['y_pred'] = np.argmax(model.predict(x_test), axis=1)\n",
    "submission = df_test[['PhraseId', 'y_pred']].rename(columns={'y_pred': 'Sentiment'})\n",
    "submission.to_csv('secondSubmission.csv', index=False, header=True)"
   ]
  },
  {
   "cell_type": "code",
   "execution_count": null,
   "id": "c7535c8d",
   "metadata": {},
   "outputs": [],
   "source": []
  }
 ],
 "metadata": {
  "kernelspec": {
   "display_name": "Python 3",
   "language": "python",
   "name": "python3"
  },
  "language_info": {
   "codemirror_mode": {
    "name": "ipython",
    "version": 3
   },
   "file_extension": ".py",
   "mimetype": "text/x-python",
   "name": "python",
   "nbconvert_exporter": "python",
   "pygments_lexer": "ipython3",
   "version": "3.8.8"
  }
 },
 "nbformat": 4,
 "nbformat_minor": 5
}
