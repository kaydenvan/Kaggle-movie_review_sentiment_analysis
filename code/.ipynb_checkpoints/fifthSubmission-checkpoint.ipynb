{
 "cells": [
  {
   "cell_type": "code",
   "execution_count": 1,
   "id": "a4fcfaf7",
   "metadata": {},
   "outputs": [],
   "source": [
    "# import library\n",
    "import os\n",
    "import pandas as pd\n",
    "import numpy as np\n",
    "import warnings\n",
    "import zipfile\n",
    "import seaborn as sns\n",
    "import yaml\n",
    "import matplotlib.pyplot as plt\n",
    "from tqdm.notebook import tqdm\n",
    "\n",
    "tqdm.pandas()\n",
    "warnings.filterwarnings('ignore')"
   ]
  },
  {
   "cell_type": "markdown",
   "id": "b4b4607b",
   "metadata": {},
   "source": [
    "### Load data"
   ]
  },
  {
   "cell_type": "code",
   "execution_count": 2,
   "id": "be8d316c",
   "metadata": {},
   "outputs": [],
   "source": [
    "_zipfile_train = zipfile.ZipFile('../local/train.tsv.zip')\n",
    "_zipfile_test = zipfile.ZipFile('../local/test.tsv.zip')"
   ]
  },
  {
   "cell_type": "code",
   "execution_count": 3,
   "id": "b92b3a1b",
   "metadata": {},
   "outputs": [],
   "source": [
    "with _zipfile_train.open('train.tsv') as f:\n",
    "    df_train = pd.read_csv(f,delimiter='\\t')\n",
    "with _zipfile_test.open('test.tsv') as f:\n",
    "    df_test = pd.read_csv(f,delimiter='\\t')"
   ]
  },
  {
   "cell_type": "code",
   "execution_count": 4,
   "id": "34f87d53",
   "metadata": {},
   "outputs": [],
   "source": [
    "cwd = os.getcwd()\n",
    "with open('configuration.yaml') as f:\n",
    "    lib_dir = yaml.load(f, yaml.BaseLoader).get('library_directory')\n",
    "os.chdir(lib_dir)\n",
    "import func_nlp as func\n",
    "os.chdir(cwd)"
   ]
  },
  {
   "cell_type": "markdown",
   "id": "9d906691",
   "metadata": {},
   "source": [
    "### EDA"
   ]
  },
  {
   "cell_type": "code",
   "execution_count": 5,
   "id": "364db28c",
   "metadata": {},
   "outputs": [
    {
     "data": {
      "text/plain": [
       "(Index(['PhraseId', 'SentenceId', 'Phrase', 'Sentiment'], dtype='object'),\n",
       " Index(['PhraseId', 'SentenceId', 'Phrase'], dtype='object'))"
      ]
     },
     "execution_count": 5,
     "metadata": {},
     "output_type": "execute_result"
    }
   ],
   "source": [
    "df_train.columns, df_test.columns"
   ]
  },
  {
   "cell_type": "code",
   "execution_count": 6,
   "id": "a9a44d72",
   "metadata": {},
   "outputs": [
    {
     "data": {
      "text/plain": [
       "(156060, 2)"
      ]
     },
     "execution_count": 6,
     "metadata": {},
     "output_type": "execute_result"
    }
   ],
   "source": [
    "# drop unnecessary columns\n",
    "df_train.drop(columns=['PhraseId', 'SentenceId'], inplace=True)\n",
    "df_train.shape"
   ]
  },
  {
   "cell_type": "code",
   "execution_count": 7,
   "id": "b4a56dd4",
   "metadata": {},
   "outputs": [
    {
     "data": {
      "text/plain": [
       "(79582, 2)"
      ]
     },
     "execution_count": 7,
     "metadata": {},
     "output_type": "execute_result"
    }
   ],
   "source": [
    "df_train[df_train['Sentiment'] == 2].shape"
   ]
  },
  {
   "cell_type": "code",
   "execution_count": 8,
   "id": "f6e3d23a",
   "metadata": {},
   "outputs": [
    {
     "data": {
      "text/plain": [
       "<AxesSubplot:xlabel='Sentiment', ylabel='count'>"
      ]
     },
     "execution_count": 8,
     "metadata": {},
     "output_type": "execute_result"
    },
    {
     "data": {
      "image/png": "[encoded data removed]",
      "text/plain": [
       "<Figure size 432x288 with 1 Axes>"
      ]
     },
     "metadata": {
      "needs_background": "light"
     },
     "output_type": "display_data"
    }
   ],
   "source": [
    "sns.countplot(df_train['Sentiment'])"
   ]
  },
  {
   "cell_type": "code",
   "execution_count": 9,
   "id": "8bb209ee",
   "metadata": {},
   "outputs": [
    {
     "data": {
      "image/png": "[encoded data removed]",
      "text/plain": [
       "<Figure size 432x288 with 1 Axes>"
      ]
     },
     "metadata": {},
     "output_type": "display_data"
    }
   ],
   "source": [
    "df_train.groupby(['Sentiment']).count()\\\n",
    ".reset_index(drop=True)\\\n",
    ".plot.pie(y='Phrase', autopct='%.2f%%', title='Pie Chart')\n",
    "plt.show()"
   ]
  },
  {
   "cell_type": "markdown",
   "id": "803d14f8",
   "metadata": {},
   "source": [
    "### Upsampling"
   ]
  },
  {
   "cell_type": "raw",
   "id": "673a876a",
   "metadata": {},
   "source": [
    "from sklearn.utils import resample"
   ]
  },
  {
   "cell_type": "raw",
   "id": "0c9fe5cd",
   "metadata": {},
   "source": [
    "# Upsampling for 0 and 4\n",
    "samples_0 = df_train[df_train['Sentiment'] == 0].shape[0]*2\n",
    "_tmp_0 = resample(df_train[df_train['Sentiment'] == 0],\n",
    "                 replace=True,\n",
    "                 n_samples=samples_0,\n",
    "                 random_state=0)\n",
    "\n",
    "samples_4 = df_train[df_train['Sentiment'] == 4].shape[0]\n",
    "_tmp_4 = resample(df_train[df_train['Sentiment'] == 4],\n",
    "                 replace=True,\n",
    "                 n_samples=samples_4*2,\n",
    "                 random_state=0)\n",
    "\n",
    "df_train = pd.concat([_tmp_0, _tmp_4, df_train[df_train['Sentiment'].isin([1,2,3])]])"
   ]
  },
  {
   "cell_type": "raw",
   "id": "d49bd18b",
   "metadata": {},
   "source": [
    "df_train.groupby(['Sentiment']).count()\\\n",
    ".reset_index(drop=True)\\\n",
    ".plot.pie(y='Phrase', autopct='%.2f%%', title='Pie Chart')\n",
    "plt.show()"
   ]
  },
  {
   "cell_type": "markdown",
   "id": "e3c6fb7e",
   "metadata": {},
   "source": [
    "### Word preprocessing"
   ]
  },
  {
   "cell_type": "code",
   "execution_count": 10,
   "id": "364df389",
   "metadata": {},
   "outputs": [],
   "source": [
    "import tensorflow as tf\n",
    "from tensorflow.keras.preprocessing.text import Tokenizer\n",
    "from tensorflow.keras.preprocessing.sequence import pad_sequences"
   ]
  },
  {
   "cell_type": "code",
   "execution_count": 11,
   "id": "cf805614",
   "metadata": {},
   "outputs": [],
   "source": [
    "tf.random.set_seed(0)"
   ]
  },
  {
   "cell_type": "code",
   "execution_count": 12,
   "id": "0658649b",
   "metadata": {},
   "outputs": [
    {
     "data": {
      "application/vnd.jupyter.widget-view+json": {
       "model_id": "fbca81fe0a074d22899c92c4e4c79304",
       "version_major": 2,
       "version_minor": 0
      },
      "text/plain": [
       "  0%|          | 0/156060 [00:00<?, ?it/s]"
      ]
     },
     "metadata": {},
     "output_type": "display_data"
    },
    {
     "data": {
      "application/vnd.jupyter.widget-view+json": {
       "model_id": "04a23490760a4ab3a470a7a39744038b",
       "version_major": 2,
       "version_minor": 0
      },
      "text/plain": [
       "  0%|          | 0/66292 [00:00<?, ?it/s]"
      ]
     },
     "metadata": {},
     "output_type": "display_data"
    }
   ],
   "source": [
    "# special handle on words\n",
    "df_train['Phrase'] = df_train['Phrase'].progress_apply(lambda x: func.clean_text(x))\n",
    "df_test['Phrase'] = df_test['Phrase'].progress_apply(lambda x: func.clean_text(x))"
   ]
  },
  {
   "cell_type": "code",
   "execution_count": 13,
   "id": "6363ceeb",
   "metadata": {},
   "outputs": [
    {
     "name": "stdout",
     "output_type": "stream",
     "text": [
      "Number of unique word: 15273\n"
     ]
    }
   ],
   "source": [
    "tokenizer = Tokenizer(num_words = 20000, oov_token=\"<OOV>\")\n",
    "tokenizer.fit_on_texts(df_train['Phrase'])\n",
    "word_index = tokenizer.word_index\n",
    "word_sequences = tokenizer.texts_to_sequences(df_train['Phrase'])\n",
    "x_test = tokenizer.texts_to_sequences(df_test['Phrase'])\n",
    "print('Number of unique word: {}'.format(len(word_index)-1))"
   ]
  },
  {
   "cell_type": "code",
   "execution_count": 14,
   "id": "095ae75b",
   "metadata": {},
   "outputs": [],
   "source": [
    "maxlen = 50\n",
    "# specify the length of sentence within 50 words\n",
    "# keep zero at the end of sentence if not 50 words\n",
    "# truncate the end of words if longer than 50\n",
    "x_train = pad_sequences(word_sequences, maxlen=maxlen, padding='post', truncating='post')\n",
    "x_test = pad_sequences(x_test, maxlen=maxlen, padding='post', truncating='post')"
   ]
  },
  {
   "cell_type": "code",
   "execution_count": 15,
   "id": "e312a7e5",
   "metadata": {},
   "outputs": [],
   "source": [
    "y_train = np.array(pd.get_dummies(df_train['Sentiment']))"
   ]
  },
  {
   "cell_type": "markdown",
   "id": "f555e2c7",
   "metadata": {},
   "source": [
    "### Model"
   ]
  },
  {
   "cell_type": "code",
   "execution_count": 55,
   "id": "780a3ff5",
   "metadata": {},
   "outputs": [],
   "source": [
    "import math\n",
    "from tensorflow.keras.models import Model\n",
    "import tensorflow.keras.backend as K\n",
    "from tensorflow.keras.layers import Dense, Embedding, GRU, Dropout, Bidirectional, GlobalMaxPooling1D, Input, concatenate, BatchNormalization, Conv1D"
   ]
  },
  {
   "cell_type": "code",
   "execution_count": 64,
   "id": "c5e75eda",
   "metadata": {},
   "outputs": [],
   "source": [
    "nlp_input = Input(shape = (maxlen, ), name = 'input_words')\n",
    "nlp = Embedding(input_dim = len(word_index) + 1, \n",
    "                  output_dim = 16,\n",
    "                  input_length = maxlen,\n",
    "                  mask_zero = True)(nlp_input)\n",
    "nlp = Bidirectional(GRU(128, input_shape=(-1,800), recurrent_dropout=.1, dropout=.1, return_sequences=True))(nlp)\n",
    "nlp = Conv1D(64, 2, activation='relu')(nlp)\n",
    "nlp = GlobalMaxPooling1D()(nlp)\n",
    "nlp = Dropout(.2)(nlp)\n",
    "nlp = Dense(64, activation='relu')(nlp)\n",
    "nlp = BatchNormalization()(nlp)\n",
    "nlp = Dense(5, activation='softmax')(nlp)\n",
    "nlp = Model(inputs = nlp_input, outputs = nlp)\n",
    "\n",
    "model = Model(inputs=[nlp.input], \n",
    "              outputs=nlp.output,\n",
    "              name='final_model')"
   ]
  },
  {
   "cell_type": "code",
   "execution_count": 65,
   "id": "a33eb55f",
   "metadata": {},
   "outputs": [],
   "source": [
    "# model configuration\n",
    "epochs = 15\n",
    "batch_size = 128\n",
    "verbose = 1\n",
    "patience = 2\n",
    "lr_rate = 1e-3\n",
    "# when fitting a keras model, decay every 1000 steps with a base of .5\n",
    "lr_schedule = tf.keras.optimizers.schedules.ExponentialDecay(\n",
    "    lr_rate,\n",
    "    decay_steps=1000,\n",
    "    decay_rate=.75,\n",
    "    staircase=False)\n",
    "optimizer = tf.keras.optimizers.Adam(lr_schedule)\n",
    "loss = tf.keras.losses.categorical_crossentropy"
   ]
  },
  {
   "cell_type": "code",
   "execution_count": 66,
   "id": "140b622e",
   "metadata": {},
   "outputs": [],
   "source": [
    "def step_decay(epoch):\n",
    "    # Credit: https://machinelearningmastery.com/using-learning-rate-schedules-deep-learning-models-python-keras/\n",
    "    # Drop-Based Learning Rate Schedule    \n",
    "    initial_lrate = lr_rate\n",
    "    drop = .075\n",
    "    epochs_drop = 20.\n",
    "    # new_lr_rate = initial_lrate * math.pow(drop, ((1+epoch*2)/epochs_drop))\n",
    "    new_lr_rate = lr_rate * drop ** (epoch / epochs_drop)\n",
    "    if new_lr_rate <= initial_lrate/100: new_lr_rate = initial_lrate/100\n",
    "    return new_lr_rate"
   ]
  },
  {
   "cell_type": "code",
   "execution_count": 67,
   "id": "9d66bb32",
   "metadata": {},
   "outputs": [
    {
     "name": "stdout",
     "output_type": "stream",
     "text": [
      "Model: \"final_model\"\n",
      "_________________________________________________________________\n",
      "Layer (type)                 Output Shape              Param #   \n",
      "=================================================================\n",
      "input_words (InputLayer)     [(None, 50)]              0         \n",
      "_________________________________________________________________\n",
      "embedding_17 (Embedding)     (None, 50, 16)            244400    \n",
      "_________________________________________________________________\n",
      "bidirectional_16 (Bidirectio (None, 50, 256)           112128    \n",
      "_________________________________________________________________\n",
      "conv1d_2 (Conv1D)            (None, 49, 64)            32832     \n",
      "_________________________________________________________________\n",
      "global_max_pooling1d_5 (Glob (None, 64)                0         \n",
      "_________________________________________________________________\n",
      "dropout_7 (Dropout)          (None, 64)                0         \n",
      "_________________________________________________________________\n",
      "dense_17 (Dense)             (None, 64)                4160      \n",
      "_________________________________________________________________\n",
      "batch_normalization_8 (Batch (None, 64)                256       \n",
      "_________________________________________________________________\n",
      "dense_18 (Dense)             (None, 5)                 325       \n",
      "=================================================================\n",
      "Total params: 394,101\n",
      "Trainable params: 393,973\n",
      "Non-trainable params: 128\n",
      "_________________________________________________________________\n"
     ]
    }
   ],
   "source": [
    "model.summary()"
   ]
  },
  {
   "cell_type": "code",
   "execution_count": 68,
   "id": "6d76a8d0",
   "metadata": {},
   "outputs": [],
   "source": [
    "model.compile(loss = loss, optimizer = optimizer,\n",
    "             metrics = ['acc'])"
   ]
  },
  {
   "cell_type": "code",
   "execution_count": 69,
   "id": "b0f2f5e0",
   "metadata": {},
   "outputs": [],
   "source": [
    "# learning rate decay \n",
    "lrate = tf.keras.callbacks.LearningRateScheduler(step_decay, verbose=1)\n",
    "# stop the trainng if validation loss is not improved for 3 rounds\n",
    "val_callback = tf.keras.callbacks.EarlyStopping(monitor='val_loss', patience=patience)"
   ]
  },
  {
   "cell_type": "code",
   "execution_count": 70,
   "id": "47577bf4",
   "metadata": {},
   "outputs": [
    {
     "name": "stdout",
     "output_type": "stream",
     "text": [
      "Epoch 1/15\n",
      "976/976 [==============================] - 304s 311ms/step - loss: 0.9971 - acc: 0.6002 - val_loss: 0.9906 - val_acc: 0.6004\n",
      "Epoch 2/15\n",
      "976/976 [==============================] - 311s 318ms/step - loss: 0.7898 - acc: 0.6769 - val_loss: 0.9858 - val_acc: 0.6085\n",
      "Epoch 3/15\n",
      "976/976 [==============================] - 313s 321ms/step - loss: 0.7245 - acc: 0.7026 - val_loss: 0.9912 - val_acc: 0.6072\n",
      "Epoch 4/15\n",
      "976/976 [==============================] - 314s 321ms/step - loss: 0.6798 - acc: 0.7195 - val_loss: 1.0021 - val_acc: 0.6078\n",
      "Wall time: 20min 49s\n"
     ]
    }
   ],
   "source": [
    "%%time\n",
    "# find proper learning rate first\n",
    "history = model.fit(x = [x_train], y = y_train,\n",
    "                   batch_size = batch_size,\n",
    "                   epochs = epochs, \n",
    "                   callbacks=[val_callback, \n",
    "                              #lrate\n",
    "                             ],\n",
    "                   validation_split=.2, \n",
    "                   verbose=verbose)"
   ]
  },
  {
   "cell_type": "code",
   "execution_count": 71,
   "id": "17129479",
   "metadata": {},
   "outputs": [
    {
     "data": {
      "text/plain": [
       "{'name': 'Adam',\n",
       " 'learning_rate': {'class_name': 'ExponentialDecay',\n",
       "  'config': {'initial_learning_rate': 0.001,\n",
       "   'decay_steps': 1000,\n",
       "   'decay_rate': 0.75,\n",
       "   'staircase': False,\n",
       "   'name': None}},\n",
       " 'decay': 0.0,\n",
       " 'beta_1': 0.9,\n",
       " 'beta_2': 0.999,\n",
       " 'epsilon': 1e-07,\n",
       " 'amsgrad': False}"
      ]
     },
     "execution_count": 71,
     "metadata": {},
     "output_type": "execute_result"
    }
   ],
   "source": [
    "optimizer.get_config()"
   ]
  },
  {
   "cell_type": "code",
   "execution_count": 72,
   "id": "3df7585b",
   "metadata": {},
   "outputs": [
    {
     "data": {
      "image/png": "[encoded data removed]",
      "text/plain": [
       "<Figure size 432x288 with 1 Axes>"
      ]
     },
     "metadata": {
      "needs_background": "light"
     },
     "output_type": "display_data"
    }
   ],
   "source": [
    "hist = pd.DataFrame(history.history)\n",
    "hist['epochs'] = history.epoch\n",
    "plt.figure()\n",
    "plt.plot(hist['epochs'], hist['acc'], label='Training Acc')\n",
    "plt.plot(hist['epochs'], hist['val_acc'], label='Validation Acc')\n",
    "plt.xlabel('Epochs')\n",
    "plt.ylabel('Accuracy')\n",
    "plt.title('Model Performance')\n",
    "plt.legend()\n",
    "plt.show()"
   ]
  },
  {
   "cell_type": "code",
   "execution_count": 73,
   "id": "a3fc8a48",
   "metadata": {},
   "outputs": [
    {
     "data": {
      "image/png": "[encoded data removed]",
      "text/plain": [
       "<Figure size 432x288 with 1 Axes>"
      ]
     },
     "metadata": {
      "needs_background": "light"
     },
     "output_type": "display_data"
    }
   ],
   "source": [
    "plt.figure()\n",
    "plt.plot(hist['epochs'], hist['loss'], label='Training loss')\n",
    "plt.plot(hist['epochs'], hist['val_loss'], label='Validation loss')\n",
    "plt.xlabel('Epochs')\n",
    "plt.ylabel('Accuracy')\n",
    "plt.title('Model Loss')\n",
    "plt.legend()\n",
    "plt.show()"
   ]
  },
  {
   "cell_type": "code",
   "execution_count": 74,
   "id": "521d31ed",
   "metadata": {},
   "outputs": [],
   "source": [
    "# store trained model\n",
    "filename = 'fifthSubmission.h5'\n",
    "model.save(filename)"
   ]
  },
  {
   "cell_type": "code",
   "execution_count": 75,
   "id": "95782a2e",
   "metadata": {},
   "outputs": [
    {
     "name": "stdout",
     "output_type": "stream",
     "text": [
      "Wall time: 54.4 s\n"
     ]
    }
   ],
   "source": [
    "%%time\n",
    "# create submission\n",
    "df_test['y_pred'] = np.argmax(model.predict([x_test]), axis=1)\n",
    "submission = df_test[['PhraseId', 'y_pred']].rename(columns={'y_pred': 'Sentiment'})\n",
    "submission.to_csv('fifthSubmission.csv', index=False, header=True)"
   ]
  },
  {
   "cell_type": "code",
   "execution_count": null,
   "id": "c7535c8d",
   "metadata": {},
   "outputs": [],
   "source": []
  }
 ],
 "metadata": {
  "kernelspec": {
   "display_name": "Python 3",
   "language": "python",
   "name": "python3"
  },
  "language_info": {
   "codemirror_mode": {
    "name": "ipython",
    "version": 3
   },
   "file_extension": ".py",
   "mimetype": "text/x-python",
   "name": "python",
   "nbconvert_exporter": "python",
   "pygments_lexer": "ipython3",
   "version": "3.8.8"
  }
 },
 "nbformat": 4,
 "nbformat_minor": 5
}
