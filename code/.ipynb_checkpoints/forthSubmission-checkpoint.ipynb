{
 "cells": [
  {
   "cell_type": "markdown",
   "id": "5a7f0ccc",
   "metadata": {},
   "source": [
    "Additional reference: https://www.pyimagesearch.com/2019/02/04/keras-multiple-inputs-and-mixed-data/"
   ]
  },
  {
   "cell_type": "code",
   "execution_count": 1,
   "id": "a4fcfaf7",
   "metadata": {},
   "outputs": [],
   "source": [
    "# import library\n",
    "import pandas as pd\n",
    "import numpy as np\n",
    "import warnings\n",
    "import zipfile\n",
    "import seaborn as sns\n",
    "import matplotlib.pyplot as plt\n",
    "\n",
    "warnings.filterwarnings('ignore')"
   ]
  },
  {
   "cell_type": "markdown",
   "id": "b4b4607b",
   "metadata": {},
   "source": [
    "### Load data"
   ]
  },
  {
   "cell_type": "code",
   "execution_count": 2,
   "id": "be8d316c",
   "metadata": {},
   "outputs": [],
   "source": [
    "_zipfile_train = zipfile.ZipFile('../local/train.tsv.zip')\n",
    "_zipfile_test = zipfile.ZipFile('../local/test.tsv.zip')"
   ]
  },
  {
   "cell_type": "code",
   "execution_count": 3,
   "id": "b92b3a1b",
   "metadata": {},
   "outputs": [],
   "source": [
    "with _zipfile_train.open('train.tsv') as f:\n",
    "    df_train = pd.read_csv(f,delimiter='\\t')\n",
    "with _zipfile_test.open('test.tsv') as f:\n",
    "    df_test = pd.read_csv(f,delimiter='\\t')"
   ]
  },
  {
   "cell_type": "markdown",
   "id": "9d906691",
   "metadata": {},
   "source": [
    "### EDA"
   ]
  },
  {
   "cell_type": "code",
   "execution_count": 4,
   "id": "364db28c",
   "metadata": {},
   "outputs": [
    {
     "data": {
      "text/plain": [
       "(Index(['PhraseId', 'SentenceId', 'Phrase', 'Sentiment'], dtype='object'),\n",
       " Index(['PhraseId', 'SentenceId', 'Phrase'], dtype='object'))"
      ]
     },
     "execution_count": 4,
     "metadata": {},
     "output_type": "execute_result"
    }
   ],
   "source": [
    "df_train.columns, df_test.columns"
   ]
  },
  {
   "cell_type": "code",
   "execution_count": 5,
   "id": "a9a44d72",
   "metadata": {},
   "outputs": [
    {
     "data": {
      "text/plain": [
       "(156060, 2)"
      ]
     },
     "execution_count": 5,
     "metadata": {},
     "output_type": "execute_result"
    }
   ],
   "source": [
    "# drop unnecessary columns\n",
    "df_train.drop(columns=['PhraseId', 'SentenceId'], inplace=True)\n",
    "df_train.shape"
   ]
  },
  {
   "cell_type": "code",
   "execution_count": 6,
   "id": "f6e3d23a",
   "metadata": {},
   "outputs": [
    {
     "data": {
      "text/plain": [
       "<AxesSubplot:xlabel='Sentiment', ylabel='count'>"
      ]
     },
     "execution_count": 6,
     "metadata": {},
     "output_type": "execute_result"
    },
    {
     "data": {
      "image/png": "[encoded data removed]",
      "text/plain": [
       "<Figure size 432x288 with 1 Axes>"
      ]
     },
     "metadata": {
      "needs_background": "light"
     },
     "output_type": "display_data"
    }
   ],
   "source": [
    "sns.countplot(df_train['Sentiment'])"
   ]
  },
  {
   "cell_type": "markdown",
   "id": "803d14f8",
   "metadata": {},
   "source": [
    "### Word preprocessing"
   ]
  },
  {
   "cell_type": "code",
   "execution_count": 7,
   "id": "69459970",
   "metadata": {},
   "outputs": [],
   "source": [
    "import re\n",
    "import string\n",
    "import tensorflow as tf\n",
    "from nltk.corpus import stopwords\n",
    "from tensorflow.keras.preprocessing.text import Tokenizer\n",
    "from tensorflow.keras.preprocessing.sequence import pad_sequences"
   ]
  },
  {
   "cell_type": "code",
   "execution_count": 8,
   "id": "cf805614",
   "metadata": {},
   "outputs": [],
   "source": [
    "tf.random.set_seed(0)"
   ]
  },
  {
   "cell_type": "code",
   "execution_count": 9,
   "id": "0658649b",
   "metadata": {},
   "outputs": [],
   "source": [
    "# lower case\n",
    "df_train['Phrase'] = df_train['Phrase'].str.lower()\n",
    "df_test['Phrase'] = df_test['Phrase'].str.lower()"
   ]
  },
  {
   "cell_type": "code",
   "execution_count": 10,
   "id": "5d1cbfe4",
   "metadata": {},
   "outputs": [],
   "source": [
    "def _create_features(df, original):\n",
    "    stopword = stopwords.words('english')\n",
    "    df['character_count'] = df[original].apply(lambda x: len(x))\n",
    "    df['word_count'] = df[original].apply(lambda x: len(str(x).split()))\n",
    "    df['unique_word_count'] = df[original].apply(lambda x: len(set(str(x).split())))\n",
    "    df['url_count'] = df[original].apply(lambda x: len(re.findall('https?:\\/\\/', x)))\n",
    "    df['hashtag_count'] = df[original].apply(lambda x: len(re.findall('@.*', x)))\n",
    "    df['stopword_count'] = df[original].apply(lambda x: len([word for word in x.split() if word in stopword]))\n",
    "    df['punctuation_count'] = df[original].apply(lambda x: len(re.findall('[%s]' %string.punctuation, x)))\n",
    "    return df"
   ]
  },
  {
   "cell_type": "code",
   "execution_count": 11,
   "id": "21f0d7b5",
   "metadata": {},
   "outputs": [],
   "source": [
    "df_train = _create_features(df_train, 'Phrase')\n",
    "df_test = _create_features(df_test, 'Phrase')"
   ]
  },
  {
   "cell_type": "code",
   "execution_count": 12,
   "id": "6363ceeb",
   "metadata": {},
   "outputs": [
    {
     "name": "stdout",
     "output_type": "stream",
     "text": [
      "Number of unique word: 15288\n"
     ]
    }
   ],
   "source": [
    "tokenizer = Tokenizer(num_words = 20000, oov_token=\"<OOV>\")\n",
    "tokenizer.fit_on_texts(df_train['Phrase'])\n",
    "word_index = tokenizer.word_index\n",
    "word_sequences = tokenizer.texts_to_sequences(df_train['Phrase'])\n",
    "x_test = tokenizer.texts_to_sequences(df_test['Phrase'])\n",
    "print('Number of unique word: {}'.format(len(word_index)-1))"
   ]
  },
  {
   "cell_type": "code",
   "execution_count": 13,
   "id": "be1c111d",
   "metadata": {},
   "outputs": [],
   "source": [
    "feature_cols = list(df_train.columns[2:])"
   ]
  },
  {
   "cell_type": "code",
   "execution_count": 14,
   "id": "095ae75b",
   "metadata": {},
   "outputs": [],
   "source": [
    "maxlen = 50\n",
    "# specify the length of sentence within 50 words\n",
    "# keep zero at the end of sentence if not 50 words\n",
    "# truncate the end of words if longer than 50\n",
    "x_train = pad_sequences(word_sequences, maxlen=maxlen, padding='post', truncating='post')\n",
    "x_test = pad_sequences(x_test, maxlen=maxlen, padding='post', truncating='post')"
   ]
  },
  {
   "cell_type": "code",
   "execution_count": 15,
   "id": "e312a7e5",
   "metadata": {},
   "outputs": [],
   "source": [
    "y_train = np.array(pd.get_dummies(df_train['Sentiment']))"
   ]
  },
  {
   "cell_type": "markdown",
   "id": "f555e2c7",
   "metadata": {},
   "source": [
    "### Model"
   ]
  },
  {
   "cell_type": "code",
   "execution_count": 16,
   "id": "780a3ff5",
   "metadata": {},
   "outputs": [],
   "source": [
    "from tensorflow.keras.models import Model\n",
    "import tensorflow.keras.backend as K\n",
    "from tensorflow.keras.layers import Dense, Embedding, GRU, Dropout, Bidirectional, GlobalMaxPooling1D, Input, concatenate, BatchNormalization"
   ]
  },
  {
   "cell_type": "code",
   "execution_count": 17,
   "id": "c5e75eda",
   "metadata": {},
   "outputs": [],
   "source": [
    "# this model combines the natural itself and\n",
    "# also some word features as metadata\n",
    "nlp_input = Input(shape = (50, ), name = 'input_words')\n",
    "nlp = Embedding(input_dim = len(word_index) + 1, \n",
    "                  output_dim = 16,\n",
    "                  input_length = maxlen,\n",
    "                  mask_zero = True)(nlp_input)\n",
    "nlp = Bidirectional(GRU(128, recurrent_dropout=0.2, dropout=0.2, return_sequences=True))(nlp)\n",
    "nlp = Dropout(.2)(nlp)\n",
    "nlp = GlobalMaxPooling1D()(nlp)\n",
    "nlp = Dense(64, activation='relu')(nlp)\n",
    "nlp = BatchNormalization()(nlp)\n",
    "nlp = Dense(5, activation='softmax')(nlp)\n",
    "nlp = Model(inputs = nlp_input, outputs = nlp)\n",
    "\n",
    "feature_input = Input(shape=(7, ), name = 'input_features')\n",
    "feature = Dense(32, activation='relu')(feature_input)\n",
    "feature = Dense(5, activation='softmax')(feature_input)\n",
    "feature = Model(inputs = feature_input, outputs = feature)\n",
    "\n",
    "combined = concatenate([nlp.output, feature.output])\n",
    "result = Dense(64, activation='relu')(combined)\n",
    "result = Dropout(.2)(result)\n",
    "result = Dense(16, activation='relu')(result)\n",
    "result = Dense(5, activation='softmax')(result)\n",
    "\n",
    "model = Model(inputs=[nlp.input, feature.input], \n",
    "              outputs=result,\n",
    "              name='combine_model')"
   ]
  },
  {
   "cell_type": "code",
   "execution_count": 18,
   "id": "a33eb55f",
   "metadata": {},
   "outputs": [],
   "source": [
    "# model configuration\n",
    "epochs = 10\n",
    "batch_size = 512\n",
    "verbose = 1\n",
    "patience = 3\n",
    "lr_rate = 1e-3\n",
    "optimizer = tf.keras.optimizers.Adam(lr_rate)\n",
    "loss = tf.keras.losses.categorical_crossentropy"
   ]
  },
  {
   "cell_type": "code",
   "execution_count": 19,
   "id": "9d66bb32",
   "metadata": {},
   "outputs": [
    {
     "name": "stdout",
     "output_type": "stream",
     "text": [
      "Model: \"combine_model\"\n",
      "__________________________________________________________________________________________________\n",
      "Layer (type)                    Output Shape         Param #     Connected to                     \n",
      "==================================================================================================\n",
      "input_words (InputLayer)        [(None, 50)]         0                                            \n",
      "__________________________________________________________________________________________________\n",
      "embedding (Embedding)           (None, 50, 16)       244640      input_words[0][0]                \n",
      "__________________________________________________________________________________________________\n",
      "bidirectional (Bidirectional)   (None, 50, 256)      112128      embedding[0][0]                  \n",
      "__________________________________________________________________________________________________\n",
      "dropout (Dropout)               (None, 50, 256)      0           bidirectional[0][0]              \n",
      "__________________________________________________________________________________________________\n",
      "global_max_pooling1d (GlobalMax (None, 256)          0           dropout[0][0]                    \n",
      "__________________________________________________________________________________________________\n",
      "dense (Dense)                   (None, 64)           16448       global_max_pooling1d[0][0]       \n",
      "__________________________________________________________________________________________________\n",
      "batch_normalization (BatchNorma (None, 64)           256         dense[0][0]                      \n",
      "__________________________________________________________________________________________________\n",
      "input_features (InputLayer)     [(None, 7)]          0                                            \n",
      "__________________________________________________________________________________________________\n",
      "dense_1 (Dense)                 (None, 5)            325         batch_normalization[0][0]        \n",
      "__________________________________________________________________________________________________\n",
      "dense_3 (Dense)                 (None, 5)            40          input_features[0][0]             \n",
      "__________________________________________________________________________________________________\n",
      "concatenate (Concatenate)       (None, 10)           0           dense_1[0][0]                    \n",
      "                                                                 dense_3[0][0]                    \n",
      "__________________________________________________________________________________________________\n",
      "dense_4 (Dense)                 (None, 64)           704         concatenate[0][0]                \n",
      "__________________________________________________________________________________________________\n",
      "dropout_1 (Dropout)             (None, 64)           0           dense_4[0][0]                    \n",
      "__________________________________________________________________________________________________\n",
      "dense_5 (Dense)                 (None, 16)           1040        dropout_1[0][0]                  \n",
      "__________________________________________________________________________________________________\n",
      "dense_6 (Dense)                 (None, 5)            85          dense_5[0][0]                    \n",
      "==================================================================================================\n",
      "Total params: 375,666\n",
      "Trainable params: 375,538\n",
      "Non-trainable params: 128\n",
      "__________________________________________________________________________________________________\n"
     ]
    }
   ],
   "source": [
    "model.summary()"
   ]
  },
  {
   "cell_type": "code",
   "execution_count": 20,
   "id": "6d76a8d0",
   "metadata": {},
   "outputs": [],
   "source": [
    "model.compile(loss = loss, optimizer = optimizer,\n",
    "             metrics = ['acc'])"
   ]
  },
  {
   "cell_type": "code",
   "execution_count": 21,
   "id": "b0f2f5e0",
   "metadata": {},
   "outputs": [],
   "source": [
    "# find optimal learning rate\n",
    "lr_callback = tf.keras.callbacks.LearningRateScheduler(\n",
    "                lambda epochs: lr_rate * .075 ** (epochs / 5), \n",
    "                verbose = 1)\n",
    "# stop the trainng if validation loss is not improved for 3 rounds\n",
    "val_callback = tf.keras.callbacks.EarlyStopping(monitor='val_loss', patience=patience)"
   ]
  },
  {
   "cell_type": "code",
   "execution_count": 22,
   "id": "47577bf4",
   "metadata": {},
   "outputs": [
    {
     "name": "stdout",
     "output_type": "stream",
     "text": [
      "\n",
      "Epoch 00001: LearningRateScheduler reducing learning rate to 0.001.\n",
      "Epoch 1/10\n",
      "305/305 [==============================] - 208s 682ms/step - loss: 1.0849 - acc: 0.5767\n",
      "\n",
      "Epoch 00002: LearningRateScheduler reducing learning rate to 0.0005956789490835458.\n",
      "Epoch 2/10\n",
      "305/305 [==============================] - 228s 746ms/step - loss: 0.8356 - acc: 0.6618\n",
      "\n",
      "Epoch 00003: LearningRateScheduler reducing learning rate to 0.00035483341038127755.\n",
      "Epoch 3/10\n",
      "305/305 [==============================] - 230s 755ms/step - loss: 0.7706 - acc: 0.6849\n",
      "\n",
      "Epoch 00004: LearningRateScheduler reducing learning rate to 0.00021136679299564996.\n",
      "Epoch 4/10\n",
      "305/305 [==============================] - 234s 767ms/step - loss: 0.7367 - acc: 0.6980\n",
      "\n",
      "Epoch 00005: LearningRateScheduler reducing learning rate to 0.00012590674912280812.\n",
      "Epoch 5/10\n",
      "305/305 [==============================] - 233s 764ms/step - loss: 0.7181 - acc: 0.7055\n",
      "\n",
      "Epoch 00006: LearningRateScheduler reducing learning rate to 7.5e-05.\n",
      "Epoch 6/10\n",
      "305/305 [==============================] - 233s 764ms/step - loss: 0.7079 - acc: 0.7102\n",
      "\n",
      "Epoch 00007: LearningRateScheduler reducing learning rate to 4.467592118126594e-05.\n",
      "Epoch 7/10\n",
      "305/305 [==============================] - 235s 771ms/step - loss: 0.7007 - acc: 0.7120\n",
      "\n",
      "Epoch 00008: LearningRateScheduler reducing learning rate to 2.6612505778595823e-05.\n",
      "Epoch 8/10\n",
      "305/305 [==============================] - 233s 763ms/step - loss: 0.6958 - acc: 0.7151\n",
      "\n",
      "Epoch 00009: LearningRateScheduler reducing learning rate to 1.5852509474673742e-05.\n",
      "Epoch 9/10\n",
      "305/305 [==============================] - 231s 759ms/step - loss: 0.6945 - acc: 0.7159\n",
      "\n",
      "Epoch 00010: LearningRateScheduler reducing learning rate to 9.443006184210608e-06.\n",
      "Epoch 10/10\n",
      "305/305 [==============================] - 233s 764ms/step - loss: 0.6923 - acc: 0.7166\n",
      "Wall time: 38min 31s\n"
     ]
    }
   ],
   "source": [
    "%%time\n",
    "# find proper learning rate first\n",
    "history = model.fit(x = [x_train, df_train[feature_cols]], y = y_train,\n",
    "                   batch_size = batch_size,\n",
    "                   epochs = epochs, \n",
    "                   callbacks=[lr_callback],\n",
    "                   verbose=verbose)"
   ]
  },
  {
   "cell_type": "code",
   "execution_count": 23,
   "id": "7431b484",
   "metadata": {},
   "outputs": [
    {
     "data": {
      "image/png": "[encoded data removed]",
      "text/plain": [
       "<Figure size 432x288 with 1 Axes>"
      ]
     },
     "metadata": {
      "needs_background": "light"
     },
     "output_type": "display_data"
    }
   ],
   "source": [
    "hist = pd.DataFrame(history.history)\n",
    "hist['epochs'] = history.epoch\n",
    "plt.plot(hist['epochs'], hist['lr'], label='Learning Rate',\n",
    "        color='#000', lw=3, linestyle='--')\n",
    "plt.plot(hist['epochs'], hist['acc'], label='Accuracy')\n",
    "plt.plot(hist['epochs'], hist['loss'], label='Loss')\n",
    "plt.title('Evaluation Metrics')\n",
    "plt.xlabel('epochs')\n",
    "plt.legend()\n",
    "plt.show()"
   ]
  },
  {
   "cell_type": "code",
   "execution_count": 26,
   "id": "132d0c5e",
   "metadata": {},
   "outputs": [
    {
     "data": {
      "image/png": "[encoded data removed]",
      "text/plain": [
       "<Figure size 432x288 with 1 Axes>"
      ]
     },
     "metadata": {
      "needs_background": "light"
     },
     "output_type": "display_data"
    }
   ],
   "source": [
    "learning_rates = lr_rate * .075 ** (np.arange(epochs) / 5)\n",
    "plt.semilogx(\n",
    "    learning_rates,\n",
    "    hist['loss'],\n",
    "    color='#000')\n",
    "plt.title('Learning rate vs loss')\n",
    "plt.xlabel('Learning rate')\n",
    "plt.ylabel('Loss')\n",
    "plt.show()"
   ]
  },
  {
   "cell_type": "code",
   "execution_count": 57,
   "id": "f8e4dfc9",
   "metadata": {},
   "outputs": [],
   "source": [
    "# this model combines the natural itself and\n",
    "# also some word features as metadata\n",
    "nlp_input = Input(shape = (50, ), name = 'input_words')\n",
    "nlp = Embedding(input_dim = len(word_index) + 1, \n",
    "                  output_dim = 16,\n",
    "                  input_length = maxlen,\n",
    "                  mask_zero = True)(nlp_input)\n",
    "nlp = Bidirectional(GRU(128, recurrent_dropout=0.2, dropout=0.2, return_sequences=True))(nlp)\n",
    "nlp = Dropout(.2)(nlp)\n",
    "nlp = GlobalMaxPooling1D()(nlp)\n",
    "nlp = Dense(64, activation='relu')(nlp)\n",
    "nlp = BatchNormalization()(nlp)\n",
    "nlp = Dense(5, activation='softmax')(nlp)\n",
    "nlp = Model(inputs = nlp_input, outputs = nlp)\n",
    "\n",
    "feature_input = Input(shape=(7, ), name = 'input_features')\n",
    "feature = Dense(32, activation='relu')(feature_input)\n",
    "feature = Dense(5, activation='softmax')(feature_input)\n",
    "feature = Model(inputs = feature_input, outputs = feature)\n",
    "\n",
    "combined = concatenate([nlp.output, feature.output])\n",
    "result = Dense(64, activation='relu')(combined)\n",
    "result = Dropout(.2)(result)\n",
    "result = Dense(16, activation='relu')(result)\n",
    "result = Dense(5, activation='softmax')(result)\n",
    "\n",
    "new_model = Model(inputs=[nlp.input, feature.input], \n",
    "              outputs=result,\n",
    "              name='combine_model')"
   ]
  },
  {
   "cell_type": "code",
   "execution_count": 58,
   "id": "dff43c14",
   "metadata": {},
   "outputs": [
    {
     "data": {
      "text/plain": [
       "0.00012590674912280812"
      ]
     },
     "execution_count": 58,
     "metadata": {},
     "output_type": "execute_result"
    }
   ],
   "source": [
    "optimal_lr = learning_rates[np.argmin(hist['loss'])]\n",
    "new_model.compile(loss = loss, optimizer = optimizer,\n",
    "                  metrics = ['acc'])\n",
    "K.set_value(new_model.optimizer.learning_rate, optimal_lr)\n",
    "optimal_lr\n",
    "# 9.443006184210608e-06"
   ]
  },
  {
   "cell_type": "code",
   "execution_count": 60,
   "id": "0b6d03bd",
   "metadata": {
    "scrolled": true
   },
   "outputs": [
    {
     "name": "stdout",
     "output_type": "stream",
     "text": [
      "Epoch 1/10\n",
      "244/244 [==============================] - 175s 718ms/step - loss: 1.1791 - acc: 0.5418 - val_loss: 1.2051 - val_acc: 0.5108\n",
      "Epoch 2/10\n",
      "244/244 [==============================] - 180s 736ms/step - loss: 0.9457 - acc: 0.6351 - val_loss: 1.0910 - val_acc: 0.5510\n",
      "Epoch 3/10\n",
      "244/244 [==============================] - 180s 739ms/step - loss: 0.8431 - acc: 0.6682 - val_loss: 1.0340 - val_acc: 0.5922\n",
      "Epoch 4/10\n",
      "244/244 [==============================] - 180s 737ms/step - loss: 0.7969 - acc: 0.6811 - val_loss: 1.0110 - val_acc: 0.5989\n",
      "Epoch 5/10\n",
      "244/244 [==============================] - 181s 741ms/step - loss: 0.7696 - acc: 0.6900 - val_loss: 1.0109 - val_acc: 0.6044\n",
      "Epoch 6/10\n",
      "244/244 [==============================] - 180s 736ms/step - loss: 0.7469 - acc: 0.6963 - val_loss: 1.0154 - val_acc: 0.6032\n",
      "Epoch 7/10\n",
      "244/244 [==============================] - 180s 738ms/step - loss: 0.7298 - acc: 0.7011 - val_loss: 1.0230 - val_acc: 0.6030\n",
      "Epoch 8/10\n",
      "244/244 [==============================] - 180s 738ms/step - loss: 0.7141 - acc: 0.7067 - val_loss: 1.0288 - val_acc: 0.5983\n",
      "Wall time: 24min 6s\n"
     ]
    }
   ],
   "source": [
    "%%time\n",
    "# find proper learning rate first\n",
    "history = new_model.fit(x = [x_train, df_train[feature_cols]], y = y_train,\n",
    "                              batch_size = batch_size,\n",
    "                              epochs = epochs, \n",
    "                              callbacks=[val_callback],\n",
    "                              validation_split=.2,\n",
    "                              verbose=verbose)"
   ]
  },
  {
   "cell_type": "code",
   "execution_count": 67,
   "id": "17129479",
   "metadata": {},
   "outputs": [
    {
     "data": {
      "text/plain": [
       "{'name': 'Adam',\n",
       " 'learning_rate': 0.00021136679,\n",
       " 'decay': 0.0,\n",
       " 'beta_1': 0.9,\n",
       " 'beta_2': 0.999,\n",
       " 'epsilon': 1e-07,\n",
       " 'amsgrad': False}"
      ]
     },
     "execution_count": 67,
     "metadata": {},
     "output_type": "execute_result"
    }
   ],
   "source": [
    "optimizer.get_config()"
   ]
  },
  {
   "cell_type": "code",
   "execution_count": 61,
   "id": "3df7585b",
   "metadata": {},
   "outputs": [
    {
     "data": {
      "image/png": "[encoded data removed]",
      "text/plain": [
       "<Figure size 432x288 with 1 Axes>"
      ]
     },
     "metadata": {
      "needs_background": "light"
     },
     "output_type": "display_data"
    }
   ],
   "source": [
    "hist = pd.DataFrame(history.history)\n",
    "hist['epochs'] = history.epoch\n",
    "plt.figure()\n",
    "plt.plot(hist['epochs'], hist['acc'], label='Training Acc')\n",
    "plt.plot(hist['epochs'], hist['val_acc'], label='Validation Acc')\n",
    "plt.xlabel('Epochs')\n",
    "plt.ylabel('Accuracy')\n",
    "plt.title('Model Performance')\n",
    "plt.legend()\n",
    "plt.show()"
   ]
  },
  {
   "cell_type": "code",
   "execution_count": 62,
   "id": "a3fc8a48",
   "metadata": {},
   "outputs": [
    {
     "data": {
      "image/png": "[encoded data removed]",
      "text/plain": [
       "<Figure size 432x288 with 1 Axes>"
      ]
     },
     "metadata": {
      "needs_background": "light"
     },
     "output_type": "display_data"
    }
   ],
   "source": [
    "plt.figure()\n",
    "plt.plot(hist['epochs'], hist['loss'], label='Training loss')\n",
    "plt.plot(hist['epochs'], hist['val_loss'], label='Validation loss')\n",
    "plt.xlabel('Epochs')\n",
    "plt.ylabel('Accuracy')\n",
    "plt.title('Model Loss')\n",
    "plt.legend()\n",
    "plt.show()"
   ]
  },
  {
   "cell_type": "code",
   "execution_count": 63,
   "id": "521d31ed",
   "metadata": {},
   "outputs": [],
   "source": [
    "# store trained model\n",
    "filename = 'forthSubmission.h5'\n",
    "model.save(filename)"
   ]
  },
  {
   "cell_type": "code",
   "execution_count": 64,
   "id": "95782a2e",
   "metadata": {},
   "outputs": [
    {
     "name": "stdout",
     "output_type": "stream",
     "text": [
      "Wall time: 41.5 s\n"
     ]
    }
   ],
   "source": [
    "%%time\n",
    "# create submission\n",
    "df_test['y_pred'] = np.argmax(new_model.predict([x_test, df_test[feature_cols]]), axis=1)\n",
    "submission = df_test[['PhraseId', 'y_pred']].rename(columns={'y_pred': 'Sentiment'})\n",
    "submission.to_csv('forthSubmission.csv', index=False, header=True)"
   ]
  },
  {
   "cell_type": "code",
   "execution_count": null,
   "id": "c7535c8d",
   "metadata": {},
   "outputs": [],
   "source": []
  }
 ],
 "metadata": {
  "kernelspec": {
   "display_name": "Python 3",
   "language": "python",
   "name": "python3"
  },
  "language_info": {
   "codemirror_mode": {
    "name": "ipython",
    "version": 3
   },
   "file_extension": ".py",
   "mimetype": "text/x-python",
   "name": "python",
   "nbconvert_exporter": "python",
   "pygments_lexer": "ipython3",
   "version": "3.8.8"
  }
 },
 "nbformat": 4,
 "nbformat_minor": 5
}
